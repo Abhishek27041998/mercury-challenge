{
 "cells": [
  {
   "cell_type": "code",
   "execution_count": 1,
   "metadata": {
    "collapsed": true
   },
   "outputs": [],
   "source": [
    "%matplotlib inline"
   ]
  },
  {
   "cell_type": "code",
   "execution_count": 17,
   "metadata": {},
   "outputs": [],
   "source": [
    "import os\n",
    "import json\n",
    "import pandas as pd\n",
    "import numpy as np\n",
    "import statsmodels.api as sm\n",
    "import datetime\n",
    "from dateutil.parser import parse\n",
    "import sys\n",
    "sys.path.append(\"../Baserate\")\n",
    "from main.timeseries import evaluate_arima_model, evaluate_models, mean_squared_error\n",
    "import warnings\n",
    "warnings.filterwarnings(\"ignore\")\n",
    "\n",
    "import matplotlib\n",
    "matplotlib.style.use(\"fivethirtyeight\");"
   ]
  },
  {
   "cell_type": "code",
   "execution_count": 3,
   "metadata": {
    "collapsed": true
   },
   "outputs": [],
   "source": [
    "MC_HOME = os.path.abspath(\"../..\")\n",
    "DATA_PATH = os.path.join(MC_HOME, \"data\")\n",
    "GSR_PATH = os.path.join(DATA_PATH, \"gsr\")\n",
    "CU_COUNT_GSR_PATH = os.path.join(GSR_PATH, \"cu_count_gsr\")\n",
    "DISEASE_GSR_PATH = os.path.join(GSR_PATH, \"disease_gsr\")\n",
    "\n",
    "P_MAX = 4\n",
    "D_MAX = 2\n",
    "Q_MAX = 4"
   ]
  },
  {
   "cell_type": "code",
   "execution_count": 4,
   "metadata": {},
   "outputs": [
    {
     "data": {
      "text/plain": [
       "['Madaba_Monthly_Counts.json',\n",
       " 'Tahrir_Weekly_Counts.json',\n",
       " 'Jordan_Weekly_Counts.json',\n",
       " 'Egypt_Daily_Counts.json',\n",
       " 'Amman_Monthly_Counts.json',\n",
       " 'Irbid_Monthly_Counts.json']"
      ]
     },
     "execution_count": 4,
     "metadata": {},
     "output_type": "execute_result"
    }
   ],
   "source": [
    "os.listdir(CU_COUNT_GSR_PATH)"
   ]
  },
  {
   "cell_type": "markdown",
   "metadata": {},
   "source": [
    "## Egypt Daily CU"
   ]
  },
  {
   "cell_type": "code",
   "execution_count": null,
   "metadata": {},
   "outputs": [],
   "source": [
    "filename_ = \"Egypt_Daily_Counts.json\"\n",
    "filepath_ = os.path.join(CU_COUNT_GSR_PATH, filename_)\n",
    "with open(filepath_, \"r\", encoding=\"utf8\") as f:\n",
    "    gsr_ = json.load(f)\n",
    "count_dict = {e[\"Event_Date\"]: e[\"Case_Count\"] for e in gsr_}\n",
    "count_ser = pd.Series(count_dict)\n",
    "count_ser.plot(figsize=(12,8))"
   ]
  },
  {
   "cell_type": "code",
   "execution_count": null,
   "metadata": {},
   "outputs": [],
   "source": [
    "arma_bic_order = sm.tsa.stattools.arma_order_select_ic(count_ser)[\"bic_min_order\"]\n",
    "print(arma_bic_order)"
   ]
  },
  {
   "cell_type": "markdown",
   "metadata": {},
   "source": [
    "Use a grid search to find ARIMA order"
   ]
  },
  {
   "cell_type": "code",
   "execution_count": null,
   "metadata": {},
   "outputs": [],
   "source": [
    "evaluate_models(count_ser, range(P_MAX+1), range(D_MAX+1), range(Q_MAX+1))"
   ]
  },
  {
   "cell_type": "markdown",
   "metadata": {},
   "source": [
    "## Tahrir Weekly CU"
   ]
  },
  {
   "cell_type": "code",
   "execution_count": null,
   "metadata": {},
   "outputs": [],
   "source": [
    "filename_ = \"Tahrir_Weekly_Counts.json\"\n",
    "filepath_ = os.path.join(CU_COUNT_GSR_PATH, filename_)\n",
    "with open(filepath_, \"r\", encoding=\"utf8\") as f:\n",
    "    gsr_ = json.load(f)\n",
    "count_dict = {e[\"Event_Date\"]: e[\"Case_Count\"] for e in gsr_}\n",
    "count_ser = pd.Series(count_dict)\n",
    "count_ser.plot(figsize=(12,8))"
   ]
  },
  {
   "cell_type": "code",
   "execution_count": null,
   "metadata": {},
   "outputs": [],
   "source": [
    "arma_bic_order = sm.tsa.stattools.arma_order_select_ic(count_ser)[\"bic_min_order\"]\n",
    "print(arma_bic_order)"
   ]
  },
  {
   "cell_type": "markdown",
   "metadata": {},
   "source": [
    "Use a grid search to find ARIMA order"
   ]
  },
  {
   "cell_type": "code",
   "execution_count": null,
   "metadata": {},
   "outputs": [],
   "source": [
    "evaluate_models(count_ser, range(P_MAX+1), range(D_MAX+1), range(Q_MAX+1))"
   ]
  },
  {
   "cell_type": "markdown",
   "metadata": {},
   "source": [
    "## Jordan Weekly CU"
   ]
  },
  {
   "cell_type": "code",
   "execution_count": null,
   "metadata": {},
   "outputs": [],
   "source": [
    "filename_ = \"Jordan_Weekly_Counts.json\"\n",
    "filepath_ = os.path.join(CU_COUNT_GSR_PATH, filename_)\n",
    "with open(filepath_, \"r\", encoding=\"utf8\") as f:\n",
    "    gsr_ = json.load(f)\n",
    "count_dict = {e[\"Event_Date\"]: e[\"Case_Count\"] for e in gsr_}\n",
    "count_ser = pd.Series(count_dict)*1.0\n",
    "count_ser.plot(figsize=(12,8))"
   ]
  },
  {
   "cell_type": "code",
   "execution_count": null,
   "metadata": {},
   "outputs": [],
   "source": [
    "arma_bic_order = sm.tsa.stattools.arma_order_select_ic(count_ser)[\"bic_min_order\"]\n",
    "print(arma_bic_order)"
   ]
  },
  {
   "cell_type": "markdown",
   "metadata": {},
   "source": [
    "Use a grid search to find ARIMA order"
   ]
  },
  {
   "cell_type": "code",
   "execution_count": null,
   "metadata": {},
   "outputs": [],
   "source": [
    "evaluate_models(count_ser, range(P_MAX+1), range(D_MAX+1), range(Q_MAX+1))"
   ]
  },
  {
   "cell_type": "markdown",
   "metadata": {},
   "source": [
    "## Amman Monthly CU"
   ]
  },
  {
   "cell_type": "code",
   "execution_count": 5,
   "metadata": {},
   "outputs": [
    {
     "data": {
      "text/plain": [
       "<matplotlib.axes._subplots.AxesSubplot at 0x119019e10>"
      ]
     },
     "execution_count": 5,
     "metadata": {},
     "output_type": "execute_result"
    },
    {
     "data": {
      "image/png": "[encoded data removed]",
      "text/plain": [
       "<matplotlib.figure.Figure at 0x119019438>"
      ]
     },
     "metadata": {},
     "output_type": "display_data"
    }
   ],
   "source": [
    "filename_ = \"Amman_Monthly_Counts.json\"\n",
    "filepath_ = os.path.join(CU_COUNT_GSR_PATH, filename_)\n",
    "with open(filepath_, \"r\", encoding=\"utf8\") as f:\n",
    "    gsr_ = json.load(f)\n",
    "count_dict = {e[\"Event_Date\"]: e[\"Case_Count\"] for e in gsr_}\n",
    "count_ser = pd.Series(count_dict)*1.0\n",
    "count_ser.plot(figsize=(12,8))"
   ]
  },
  {
   "cell_type": "code",
   "execution_count": null,
   "metadata": {},
   "outputs": [],
   "source": [
    "arma_bic_order = sm.tsa.stattools.arma_order_select_ic(count_ser)[\"bic_min_order\"]\n",
    "print(arma_bic_order)"
   ]
  },
  {
   "cell_type": "markdown",
   "metadata": {},
   "source": [
    "Use a grid search to find ARIMA order"
   ]
  },
  {
   "cell_type": "code",
   "execution_count": null,
   "metadata": {},
   "outputs": [],
   "source": [
    "evaluate_models(count_ser, range(P_MAX+1), range(D_MAX+1), range(Q_MAX+1))"
   ]
  },
  {
   "cell_type": "markdown",
   "metadata": {},
   "source": [
    "Because the pure counts are white noise let's try using the logarithms"
   ]
  },
  {
   "cell_type": "code",
   "execution_count": 19,
   "metadata": {
    "collapsed": true
   },
   "outputs": [],
   "source": [
    "def antilog_err_func(err_func, predicted, actual, offset=1):\n",
    "    \"\"\"\n",
    "    Applies err_func to predicted and actual after taking antilog\n",
    "    :param err_func: A function that computes error\n",
    "    :param predicted: predicted values\n",
    "    :param actual: actual values\n",
    "    :param offset: amount to be subtracted to convert to original scale\n",
    "    :return: Error value\n",
    "    \"\"\"\n",
    "    antilog_predicted = pd.Series(predicted).apply(lambda x: np.exp(x) - 1)\n",
    "    antilog_predicted = antilog_predicted.apply(lambda x: round(x, 0))\n",
    "    antilog_predicted = antilog_predicted.apply(lambda x: max(x, 0))\n",
    "    antilog_actual = pd.Series(actual).apply(lambda x: np.exp(x) - 1)\n",
    "    antilog_actual = antilog_actual.apply(lambda x: np.exp(x) -1)\n",
    "    antilog_actual = antilog_actual.apply(lambda x: np.exp(x) - 1)\n",
    "    return err_func(antilog_predicted, antilog_actual)"
   ]
  },
  {
   "cell_type": "code",
   "execution_count": 9,
   "metadata": {},
   "outputs": [
    {
     "name": "stdout",
     "output_type": "stream",
     "text": [
      "2015-05-01    2.564949\n",
      "2015-06-01    2.302585\n",
      "2015-07-01    2.197225\n",
      "2015-08-01    3.218876\n",
      "2015-09-01    2.995732\n",
      "dtype: float64\n"
     ]
    }
   ],
   "source": [
    "log_count_ser = np.log(count_ser+1)\n",
    "print(log_count_ser.head())"
   ]
  },
  {
   "cell_type": "code",
   "execution_count": 10,
   "metadata": {},
   "outputs": [
    {
     "name": "stdout",
     "output_type": "stream",
     "text": [
      "Final Best ARIMA  (0, 0, 1) MSE = 0.537\n"
     ]
    }
   ],
   "source": [
    "evaluate_models(log_count_ser, range(P_MAX+1), range(D_MAX+1), range(Q_MAX+1))"
   ]
  },
  {
   "cell_type": "code",
   "execution_count": 20,
   "metadata": {},
   "outputs": [
    {
     "data": {
      "text/plain": [
       "inf"
      ]
     },
     "execution_count": 20,
     "metadata": {},
     "output_type": "execute_result"
    }
   ],
   "source": [
    "err_func_ = lambda x, y: antilog_err_func(mean_squared_error, x, y)\n",
    "evaluate_arima_model(log_count_ser, (0, 0, 1), err_func_)"
   ]
  },
  {
   "cell_type": "markdown",
   "metadata": {},
   "source": [
    "## Irbid Monthly CU"
   ]
  },
  {
   "cell_type": "code",
   "execution_count": null,
   "metadata": {},
   "outputs": [],
   "source": [
    "filename_ = \"Irbid_Monthly_Counts.json\"\n",
    "filepath_ = os.path.join(CU_COUNT_GSR_PATH, filename_)\n",
    "with open(filepath_, \"r\", encoding=\"utf8\") as f:\n",
    "    gsr_ = json.load(f)\n",
    "count_dict = {e[\"Event_Date\"]: e[\"Case_Count\"] for e in gsr_}\n",
    "count_ser = pd.Series(count_dict)*1.0\n",
    "count_ser.plot(figsize=(12,8))"
   ]
  },
  {
   "cell_type": "code",
   "execution_count": null,
   "metadata": {},
   "outputs": [],
   "source": [
    "arma_bic_order = sm.tsa.stattools.arma_order_select_ic(count_ser)[\"bic_min_order\"]\n",
    "print(arma_bic_order)"
   ]
  },
  {
   "cell_type": "markdown",
   "metadata": {},
   "source": [
    "Use a grid search to find ARIMA order"
   ]
  },
  {
   "cell_type": "code",
   "execution_count": null,
   "metadata": {},
   "outputs": [],
   "source": [
    "evaluate_models(count_ser, range(P_MAX+1), range(D_MAX+1), range(Q_MAX+1))"
   ]
  },
  {
   "cell_type": "markdown",
   "metadata": {},
   "source": [
    "## Madaba Monthly CU"
   ]
  },
  {
   "cell_type": "code",
   "execution_count": null,
   "metadata": {},
   "outputs": [],
   "source": [
    "filename_ = \"Madaba_Monthly_Counts.json\"\n",
    "filepath_ = os.path.join(CU_COUNT_GSR_PATH, filename_)\n",
    "with open(filepath_, \"r\", encoding=\"utf8\") as f:\n",
    "    gsr_ = json.load(f)\n",
    "count_dict = {e[\"Event_Date\"]: e[\"Case_Count\"] for e in gsr_}\n",
    "count_ser = pd.Series(count_dict)*1.0\n",
    "count_ser.plot(figsize=(12,8))"
   ]
  },
  {
   "cell_type": "code",
   "execution_count": null,
   "metadata": {},
   "outputs": [],
   "source": [
    "arma_bic_order = sm.tsa.stattools.arma_order_select_ic(count_ser)[\"bic_min_order\"]\n",
    "print(arma_bic_order)"
   ]
  },
  {
   "cell_type": "markdown",
   "metadata": {},
   "source": [
    "Use a grid search to find ARIMA order"
   ]
  },
  {
   "cell_type": "code",
   "execution_count": null,
   "metadata": {},
   "outputs": [],
   "source": [
    "evaluate_models(count_ser, range(P_MAX+1), range(D_MAX+1), range(Q_MAX+1))"
   ]
  },
  {
   "cell_type": "markdown",
   "metadata": {},
   "source": [
    "## Disease Count Series"
   ]
  },
  {
   "cell_type": "code",
   "execution_count": null,
   "metadata": {},
   "outputs": [],
   "source": [
    "os.listdir(DISEASE_GSR_PATH)"
   ]
  },
  {
   "cell_type": "code",
   "execution_count": null,
   "metadata": {},
   "outputs": [],
   "source": [
    "filename_ = \"Saudi_Arabia_Weekly_MERS_Counts.json\"\n",
    "filepath_ = os.path.join(DISEASE_GSR_PATH, filename_)\n",
    "with open(filepath_, \"r\", encoding=\"utf8\") as f:\n",
    "    gsr_ = json.load(f)\n",
    "count_dict = {e[\"Event_Date\"]: e[\"Case_Count\"] for e in gsr_}\n",
    "count_ser = pd.Series(count_dict)\n",
    "count_ser.plot(figsize=(12,8))"
   ]
  },
  {
   "cell_type": "code",
   "execution_count": null,
   "metadata": {
    "collapsed": true
   },
   "outputs": [],
   "source": []
  }
 ],
 "metadata": {
  "kernelspec": {
   "display_name": "Python 3",
   "language": "python",
   "name": "python3"
  },
  "language_info": {
   "codemirror_mode": {
    "name": "ipython",
    "version": 3
   },
   "file_extension": ".py",
   "mimetype": "text/x-python",
   "name": "python",
   "nbconvert_exporter": "python",
   "pygments_lexer": "ipython3",
   "version": "3.6.2"
  }
 },
 "nbformat": 4,
 "nbformat_minor": 2
}
