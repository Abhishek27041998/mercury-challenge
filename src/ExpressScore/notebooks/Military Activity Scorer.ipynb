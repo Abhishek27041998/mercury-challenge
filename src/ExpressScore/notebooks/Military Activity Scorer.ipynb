{
 "cells": [
  {
   "cell_type": "markdown",
   "metadata": {},
   "source": [
    "# Scoring Military Activity Warnings Using ExpressScore"
   ]
  },
  {
   "cell_type": "markdown",
   "metadata": {},
   "source": [
    "The **ExpressScore** package provides a lightweight method for Mercury Challenge participants to score their warnings against ground truth.  Unlike the official Challenge scoring system, **ExpressScore** does not require a Docker installation.\n",
    "In this notebook we will show you how to use **ExpressScore**'s *MaScorer* class to score warnings for the Military Activity event type.  The *MaScorer* matches input warnings and ground truth and computes four metrics.  The primary metrics used in ranking Challenge participants are the Quality Score and F1.  \n",
    "\n",
    "## Metrics"
   ]
  },
  {
   "cell_type": "markdown",
   "metadata": {},
   "source": [
    "### F1"
   ]
  },
  {
   "cell_type": "markdown",
   "metadata": {},
   "source": [
    "F1 is an informational retrieval metric that balances the ability to match real world events (Recall) with the ability to issue warnings that can be matched (Precision).  The Precision metric reports what proportion of the germane input warnings were matched to events and Recall reports what proportion of events matched germane input warnings:\n",
    "\n",
    "$Precision = \\frac{matches}{warnings}$\n",
    "\n",
    "$Recall = \\frac{matches}{events}$\n",
    "\n",
    "F1 is the harmonic mean of Precision and Recall and is computed as:\n",
    "\n",
    "$F1 = \\frac{2*Precision*Recall}{Precision + Recall}$"
   ]
  },
  {
   "cell_type": "markdown",
   "metadata": {},
   "source": [
    "### Quality Score"
   ]
  },
  {
   "cell_type": "markdown",
   "metadata": {},
   "source": [
    "Quality Score (QS) measures the closeness of the warning to the ground truth event according to 4 features:\n",
    "- Location Score (LS) is based on the distance between the predicted location in the warning and the actual location in the event.\n",
    "- Date Score (DS) is based on the difference between the predicted event date in the warning and the actual event date.\n",
    "- Event Subtype Score (ESS) is based on the match between the predicted event subtype and the actual event subtype.\n",
    "- Actor Score (AS) is based on the match between the predicted actor and the actual actor.\n",
    "Each of these features has an associated Component Score in the range from 0.0 to 1.0.  Quality Score is the sum of these component scores $QS = LS + DS + ESS + AS$ and takes values in the range from 0.0 to 4.0.  The Component Scores are defined here:"
   ]
  },
  {
   "cell_type": "markdown",
   "metadata": {},
   "source": [
    "#### Location Score"
   ]
  },
  {
   "cell_type": "markdown",
   "metadata": {},
   "source": [
    "Location Score (LS) is defined as:\n",
    "\n",
    "$LS = 1 - \\frac{distance in km}{100}$ (when the event *Approximate_Location* field is \"False\")\n",
    "or $LS = 1 - \\frac{distance in km - 16.67}{83.33}$ (when the event *Approximate_Location* field is \"True\")\n",
    "\n",
    "The distance of 16.67 km represents a circle of uncertainty around the location encoded in the GSR."
   ]
  },
  {
   "cell_type": "markdown",
   "metadata": {},
   "source": [
    "#### Date Score"
   ]
  },
  {
   "cell_type": "markdown",
   "metadata": {},
   "source": [
    "Date Score (DS) is defined as:\n",
    "$DS = 1 - \\frac{\\mid PredictedEventDate - ActualEventDate\\mid}{4.0}$ when the difference in days is less than 4 days."
   ]
  },
  {
   "cell_type": "markdown",
   "metadata": {},
   "source": [
    "#### Event Subtype Score"
   ]
  },
  {
   "cell_type": "markdown",
   "metadata": {},
   "source": [
    "Event Subtype Score (ESS) is 1 if the predicted and actual event subtypes match, 0 otherwise."
   ]
  },
  {
   "cell_type": "markdown",
   "metadata": {},
   "source": [
    "#### Actor Score"
   ]
  },
  {
   "cell_type": "markdown",
   "metadata": {},
   "source": [
    "Actor Score (AS) is 1 if either the actual Actor list includes a wildcard value such as \"Unspecified\" or it contains the predicted Actor value.  Otherwise it is 0."
   ]
  },
  {
   "cell_type": "markdown",
   "metadata": {},
   "source": [
    "### Germane Warnings/Events"
   ]
  },
  {
   "cell_type": "markdown",
   "metadata": {},
   "source": [
    "A warning or an event is \"germane\" if it matches the country and event type used in constructing the *MaCountScorer* instance.  Non-germane warnings or events are not included in the computation of any of the metrics.  More on this later."
   ]
  },
  {
   "cell_type": "markdown",
   "metadata": {},
   "source": [
    "## MaScorer methods"
   ]
  },
  {
   "cell_type": "markdown",
   "metadata": {},
   "source": [
    "*MaCountScorer* has 3 methods that Challenge participants may find useful:\n",
    "\n",
    "- *quality_score(predicted, actual)*:  A static method that computes the Quality Score for the input predicted and actual case counts.\n",
    "- *score\\_one(warn\\_, event\\_)*: A static method that parses the JSON inputs for the warning and the event and computes the Quality Score.  Provides diagnostics if there are errors in the input.\n",
    "- *score(warn_data, gsr_data)*: Matches and scores the lists of JSON-formatted warning and GSR (event) data.  Computes all 4 metrics and provides other output details.\n",
    "\n",
    "We will walk through the use of each of these with some examples"
   ]
  },
  {
   "cell_type": "code",
   "execution_count": 1,
   "metadata": {},
   "outputs": [],
   "source": [
    "import sys\n",
    "sys.path.append(\"..\")\n",
    "import os\n",
    "import json\n",
    "import pprint\n",
    "from geopy.distance import distance\n",
    "from main.express_score import Scorer, MaScorer"
   ]
  },
  {
   "cell_type": "code",
   "execution_count": 2,
   "metadata": {},
   "outputs": [],
   "source": [
    "EXPRESS_SCORE_HOME = os.path.abspath(\"..\")\n",
    "RESOURCE_PATH = os.path.join(EXPRESS_SCORE_HOME, \"resources\")\n",
    "TEST_RESOURCE_PATH = os.path.join(RESOURCE_PATH, \"test\")\n",
    "# Path to Lebanon test files\n",
    "LB_TEST_PATH = os.path.join(TEST_RESOURCE_PATH, \"lb_ma_may_2018\")\n",
    "IQ_TEST_PATH = os.path.join(TEST_RESOURCE_PATH, \"iq_ma_may_2018\")\n",
    "SY_TEST_PATH = os.path.join(TEST_RESOURCE_PATH, \"sy_ma_may_2018\")"
   ]
  },
  {
   "cell_type": "markdown",
   "metadata": {},
   "source": [
    "Let's load a set of warnings from the Baserate model and the May GSR for Lebanon"
   ]
  },
  {
   "cell_type": "code",
   "execution_count": 3,
   "metadata": {},
   "outputs": [
    {
     "name": "stdout",
     "output_type": "stream",
     "text": [
      "Lebanon has 17 warnings and 4 events\n"
     ]
    }
   ],
   "source": [
    "test_gsr_path = os.path.join(LB_TEST_PATH, \"test_lb_gsr.json\")\n",
    "with open(test_gsr_path, \"r\", encoding=\"utf8\") as f:\n",
    "    test_gsr = json.load(f)\n",
    "test_warn_path = os.path.join(LB_TEST_PATH,\"test_lb_warnings.json\")\n",
    "with open(test_warn_path, \"r\", encoding=\"utf8\") as f:\n",
    "    test_warn = json.load(f)\n",
    "print(\"Lebanon has {0} warnings and {1} events\".format(len(test_warn), len(test_gsr)))"
   ]
  },
  {
   "cell_type": "markdown",
   "metadata": {},
   "source": [
    "An example warning:"
   ]
  },
  {
   "cell_type": "code",
   "execution_count": 4,
   "metadata": {},
   "outputs": [
    {
     "name": "stdout",
     "output_type": "stream",
     "text": [
      "{'Actor': 'Lebanese Military',\n",
      " 'City': 'Ouâdi el Kâf',\n",
      " 'Country': 'Lebanon',\n",
      " 'Event_Date': '2018-05-24',\n",
      " 'Event_Subtype': 'Force Posture',\n",
      " 'Event_Type': 'Military Activity',\n",
      " 'Latitude': 34.3444,\n",
      " 'Longitude': 35.9478,\n",
      " 'Probability': 0.5811039169,\n",
      " 'State': 'Liban-Nord',\n",
      " 'Warning_ID': 'BR_2',\n",
      " 'timestamp': '2018-05-20T6:17:28.0'}\n"
     ]
    }
   ],
   "source": [
    "w = test_warn[2]\n",
    "pprint.pprint(w)"
   ]
  },
  {
   "cell_type": "markdown",
   "metadata": {},
   "source": [
    "An example event"
   ]
  },
  {
   "cell_type": "code",
   "execution_count": 5,
   "metadata": {},
   "outputs": [
    {
     "name": "stdout",
     "output_type": "stream",
     "text": [
      "{'Actor': 'Lebanese Military',\n",
      " 'Approximate_Location': 'False',\n",
      " 'City': 'Tripoli',\n",
      " 'Country': 'Lebanon',\n",
      " 'Earliest_Reported_Date': '2018-05-22',\n",
      " 'Event_Date': '2018-05-22',\n",
      " 'Event_ID': 'MN2',\n",
      " 'Event_Subtype': 'Force Posture',\n",
      " 'Event_Type': 'Military Activity',\n",
      " 'First_Reported_Link': 'http://nna-leb.gov.lb/en/show-news/91451/',\n",
      " 'GSS_Link': 'http://nna-leb.gov.lb/en/show-news/91451/',\n",
      " 'Latitude': 34.4367,\n",
      " 'Longitude': 35.8497,\n",
      " 'News_Source': 'NNA',\n",
      " 'Other_Links': None,\n",
      " 'Revision_Date': '2018-06-06',\n",
      " 'State': 'Liban-Nord'}\n"
     ]
    }
   ],
   "source": [
    "e = test_gsr[2]\n",
    "pprint.pprint(e)"
   ]
  },
  {
   "cell_type": "markdown",
   "metadata": {},
   "source": [
    "## *quality_score* and component score methods\n"
   ]
  },
  {
   "cell_type": "markdown",
   "metadata": {},
   "source": [
    "### Location Score"
   ]
  },
  {
   "cell_type": "code",
   "execution_count": 6,
   "metadata": {},
   "outputs": [
    {
     "name": "stdout",
     "output_type": "stream",
     "text": [
      "The Distance between the warning and event is 13.65 km\n",
      "LS = 0.86\n"
     ]
    }
   ],
   "source": [
    "dist = distance((w[\"Latitude\"], w[\"Longitude\"]),( e[\"Latitude\"], e[\"Longitude\"])).km\n",
    "print(\"The Distance between the warning and event is {:.2f} km\".format(dist))\n",
    "ls = MaScorer.location_score(dist)\n",
    "print(\"LS = {:.2f}\".format(ls))"
   ]
  },
  {
   "cell_type": "markdown",
   "metadata": {},
   "source": [
    "### Date Score"
   ]
  },
  {
   "cell_type": "code",
   "execution_count": 7,
   "metadata": {},
   "outputs": [
    {
     "name": "stdout",
     "output_type": "stream",
     "text": [
      "The Date Difference between the warning and event is -2 days\n",
      "DS = 0.50\n"
     ]
    }
   ],
   "source": [
    "dd = Scorer.date_diff(w[\"Event_Date\"], e[\"Event_Date\"])\n",
    "print(\"The Date Difference between the warning and event is {} days\".format(dd))\n",
    "ds = MaScorer.date_score(dd)\n",
    "print(\"DS = {:.2f}\".format(ds))"
   ]
  },
  {
   "cell_type": "markdown",
   "metadata": {},
   "source": [
    "### Event Subtype Score"
   ]
  },
  {
   "cell_type": "code",
   "execution_count": 8,
   "metadata": {},
   "outputs": [
    {
     "name": "stdout",
     "output_type": "stream",
     "text": [
      "Warning Event Subtype: Force Posture, Actual Event Subtype: Force Posture, ESS=1\n"
     ]
    }
   ],
   "source": [
    "w_subtype = w[\"Event_Subtype\"]\n",
    "e_subtype = e[\"Event_Subtype\"]\n",
    "ess = MaScorer.event_subtype_score(w_subtype, e_subtype)\n",
    "print(\"Warning Event Subtype: {0}, Actual Event Subtype: {1}, ESS={2}\".format(w_subtype, e_subtype, ess))"
   ]
  },
  {
   "cell_type": "markdown",
   "metadata": {},
   "source": [
    "### Actor Score"
   ]
  },
  {
   "cell_type": "code",
   "execution_count": 9,
   "metadata": {},
   "outputs": [
    {
     "name": "stdout",
     "output_type": "stream",
     "text": [
      "Warning Actor: Lebanese Military, Event Actor: Lebanese Military, AS=1\n"
     ]
    }
   ],
   "source": [
    "w_actor = w[\"Actor\"]\n",
    "e_actor = e[\"Actor\"]\n",
    "acs = MaScorer.actor_score(w_actor, e_actor)\n",
    "print(\"Warning Actor: {0}, Event Actor: {1}, AS={2}\".format(w_actor, e_actor, acs))"
   ]
  },
  {
   "cell_type": "markdown",
   "metadata": {},
   "source": [
    "### Quality Score"
   ]
  },
  {
   "cell_type": "code",
   "execution_count": 10,
   "metadata": {},
   "outputs": [
    {
     "name": "stdout",
     "output_type": "stream",
     "text": [
      "Warning-Event QS = 3.36\n"
     ]
    }
   ],
   "source": [
    "qs = ls + ds + ess + acs\n",
    "print(\"Warning-Event QS = {:.2f}\".format(qs))"
   ]
  },
  {
   "cell_type": "markdown",
   "metadata": {},
   "source": [
    "## *score_one*"
   ]
  },
  {
   "cell_type": "markdown",
   "metadata": {},
   "source": [
    "The *score_one* method for #MaScorer# takes a single warning and a single event and scores them against each other."
   ]
  },
  {
   "cell_type": "code",
   "execution_count": 11,
   "metadata": {},
   "outputs": [
    {
     "name": "stdout",
     "output_type": "stream",
     "text": [
      "{'Actor Score': 1,\n",
      " 'Approximate_Location': 'False',\n",
      " 'Date Difference': 2,\n",
      " 'Date Score': 0.5,\n",
      " 'Distance': 13.646094360548306,\n",
      " 'Event Subtype Score': 1,\n",
      " 'Event_ID': 'MN2',\n",
      " 'Location Score': 0.8635390563945169,\n",
      " 'Quality Score': 3.363539056394517,\n",
      " 'Warning_ID': 'BR_2'}\n"
     ]
    }
   ],
   "source": [
    "scoring_ = MaScorer.score_one(w, e)\n",
    "pprint.pprint(scoring_)"
   ]
  },
  {
   "cell_type": "markdown",
   "metadata": {},
   "source": [
    "## *score*"
   ]
  },
  {
   "cell_type": "markdown",
   "metadata": {},
   "source": [
    "The *score* method for **MaScorer** compares a list of JSON formatted warnings to a list of JSON formatted events.  Using the Munkres or Hungarian algorithm <https://en.wikipedia.org/wiki/Hungarian_algorithm> the warnings are matched to events so as to optimize the aggregate Quality Score metric, subject to the constraint that neither LS nor DS for the match can be 0.\n",
    "\n",
    "The output of the *score* method includes a list of warning/event pairs, a vector of quality score values, and mean metrics."
   ]
  },
  {
   "cell_type": "code",
   "execution_count": 12,
   "metadata": {},
   "outputs": [
    {
     "name": "stdout",
     "output_type": "stream",
     "text": [
      "{'Details': {'Quality Scores': [3.820949051145861,\n",
      "                                3.823585527754669,\n",
      "                                3.5,\n",
      "                                3.3259779435050736]},\n",
      " 'F1': 0.38095238095238093,\n",
      " 'Matches': [('BR_8', 'MN0'),\n",
      "             ('BR_12', 'MN3'),\n",
      "             ('BR_13', 'MN2'),\n",
      "             ('BR_16', 'MN1')],\n",
      " 'Mercury Score': 1.285359413602731,\n",
      " 'Precision': 0.23529411764705882,\n",
      " 'Quality Score': 3.6176281306014006,\n",
      " 'Recall': 1.0}\n"
     ]
    }
   ],
   "source": [
    "scoring_ = MaScorer.score(test_warn, test_gsr)\n",
    "pprint.pprint(scoring_)"
   ]
  },
  {
   "cell_type": "markdown",
   "metadata": {},
   "source": [
    "The matching algorithm takes O(N^3) to compute, where N is the approximate number of warnings or events.  For the more eventful countries of Syria or Iraq it can take a few minutes to do the scoring.  We show this using the scoring for Iraq below."
   ]
  },
  {
   "cell_type": "code",
   "execution_count": 13,
   "metadata": {},
   "outputs": [
    {
     "name": "stdout",
     "output_type": "stream",
     "text": [
      "Iraq has 529 warnings and 439 events\n"
     ]
    }
   ],
   "source": [
    "test_gsr_path = os.path.join(IQ_TEST_PATH, \"test_cc_gsr.json\")\n",
    "with open(test_gsr_path, \"r\", encoding=\"utf8\") as f:\n",
    "    test_gsr = json.load(f)\n",
    "test_warn_path = os.path.join(IQ_TEST_PATH,\"test_cc_warnings.json\")\n",
    "with open(test_warn_path, \"r\", encoding=\"utf8\") as f:\n",
    "    test_warn = json.load(f)\n",
    "print(\"Iraq has {0} warnings and {1} events\".format(len(test_warn), len(test_gsr)))"
   ]
  },
  {
   "cell_type": "code",
   "execution_count": 14,
   "metadata": {
    "scrolled": false
   },
   "outputs": [
    {
     "name": "stdout",
     "output_type": "stream",
     "text": [
      "Quality Score = 2.735\n",
      "F1 = 0.866\n",
      "Precision = 0.792\n",
      "Recall = 0.954\n",
      "Mercury Score = 1.549\n"
     ]
    }
   ],
   "source": [
    "scoring_ = MaScorer.score(test_warn, test_gsr)\n",
    "for m in [\"Quality Score\", \"F1\", \"Precision\", \"Recall\", \"Mercury Score\"]:\n",
    "    print(\"{0} = {1:.3f}\".format(m, scoring_[m]))"
   ]
  },
  {
   "cell_type": "markdown",
   "metadata": {},
   "source": [
    "Syria scoring:"
   ]
  },
  {
   "cell_type": "code",
   "execution_count": 15,
   "metadata": {},
   "outputs": [
    {
     "name": "stdout",
     "output_type": "stream",
     "text": [
      "Syria has 1685 warnings and 884 events\n"
     ]
    }
   ],
   "source": [
    "test_gsr_path = os.path.join(SY_TEST_PATH, \"test_cc_gsr.json\")\n",
    "with open(test_gsr_path, \"r\", encoding=\"utf8\") as f:\n",
    "    test_gsr = json.load(f)\n",
    "test_warn_path = os.path.join(SY_TEST_PATH,\"test_cc_warnings.json\")\n",
    "with open(test_warn_path, \"r\", encoding=\"utf8\") as f:\n",
    "    test_warn = json.load(f)\n",
    "print(\"Syria has {0} warnings and {1} events\".format(len(test_warn), len(test_gsr)))"
   ]
  },
  {
   "cell_type": "code",
   "execution_count": 16,
   "metadata": {
    "scrolled": false
   },
   "outputs": [
    {
     "name": "stdout",
     "output_type": "stream",
     "text": [
      "Quality Score = 3.510\n",
      "F1 = 0.649\n",
      "Precision = 0.494\n",
      "Recall = 0.942\n",
      "Mercury Score = 1.526\n"
     ]
    }
   ],
   "source": [
    "scoring_ = MaScorer.score(test_warn, test_gsr)\n",
    "for m in [\"Quality Score\", \"F1\", \"Precision\", \"Recall\", \"Mercury Score\"]:\n",
    "    print(\"{0} = {1:.3f}\".format(m, scoring_[m]))"
   ]
  },
  {
   "cell_type": "code",
   "execution_count": null,
   "metadata": {},
   "outputs": [],
   "source": []
  }
 ],
 "metadata": {
  "anaconda-cloud": {},
  "kernelspec": {
   "display_name": "Python 3",
   "language": "python",
   "name": "python3"
  },
  "language_info": {
   "codemirror_mode": {
    "name": "ipython",
    "version": 3
   },
   "file_extension": ".py",
   "mimetype": "text/x-python",
   "name": "python",
   "nbconvert_exporter": "python",
   "pygments_lexer": "ipython3",
   "version": "3.6.5"
  }
 },
 "nbformat": 4,
 "nbformat_minor": 1
}
