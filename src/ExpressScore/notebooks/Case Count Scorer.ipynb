{
 "cells": [
  {
   "cell_type": "markdown",
   "metadata": {},
   "source": [
    "# Scoring Case Count Warnings Using ExpressScore"
   ]
  },
  {
   "cell_type": "markdown",
   "metadata": {},
   "source": [
    "The **ExpressScore** package provides a lightweight method for Mercury Challenge participants to score their warnings against ground truth.  Unlike the official Challenge scoring system, **ExpressScore** does not require a Docker installation.\n",
    "In this notebook we will show you how to use **ExpressScore**'s *CaseCountScorer* class to score warnings for the Disease and Non-Violent Civil Unrest event types.  The *CaseCountScorer* matches input warnings and ground truth and computes three metrics.  The primary metric used in ranking Challenge participants is the Quality Score, which measures the difference between the predicted and the actual Case Counts and converts to a scale from 0 to 1.  Quality Score is computed as:\n",
    "\n",
    "$QS = 1 - \\frac{abs(predicted - actual}{max(predicted, actual, 4)}$\n",
    "\n",
    "Additionally, the Precision metric reports what proportion of the germane input warnings were matched to events and Recall reports what proportion of events matched germane input warnings:\n",
    "\n",
    "$Precision = \\frac{matches}{warnings}$\n",
    "\n",
    "$Recall = \\frac{matches}{events}$\n",
    "\n",
    "A warning or an event is \"germane\" if it matches the location and event type used in constructing the *CaseCountScorer* instance.  Non-germane warnings or events are not included in the computation of any of the metrics.  More on this later.\n",
    "\n",
    "*CaseCountScorer* has 3 methods that Challenge participants may find useful:\n",
    "\n",
    "- *quality_score(predicted, actual)*:  A static method that computes the Quality Score for the input predicted and actual case counts.\n",
    "- *score\\_one(warn\\_, event\\_)*: A static method that parses the JSON inputs for the warning and the event and computes the Quality Score.  Provides diagnostics if there are errors in the input.\n",
    "- *score(warn_data, gsr_data)*: Matches and scores the lists of JSON-formatted warning and GSR (event) data.  Computes all 3 metrics and provides other output details.\n",
    "\n",
    "We will walk through the use of each of these with some examples"
   ]
  },
  {
   "cell_type": "code",
   "execution_count": 1,
   "metadata": {
    "collapsed": true
   },
   "outputs": [],
   "source": [
    "import sys\n",
    "sys.path.append(\"..\")\n",
    "import os\n",
    "import json\n",
    "import pprint\n",
    "from main.express_score import CaseCountScorer"
   ]
  },
  {
   "cell_type": "code",
   "execution_count": 2,
   "metadata": {
    "collapsed": false
   },
   "outputs": [],
   "source": [
    "EXPRESS_SCORE_HOME = os.path.abspath(\"..\")\n",
    "RESOURCE_PATH = os.path.join(EXPRESS_SCORE_HOME, \"resources\")\n",
    "TEST_RESOURCE_PATH = os.path.join(RESOURCE_PATH, \"test\")"
   ]
  },
  {
   "cell_type": "markdown",
   "metadata": {},
   "source": [
    "## *quality_score* method\n"
   ]
  },
  {
   "cell_type": "markdown",
   "metadata": {},
   "source": [
    "The arguments for *CaseCountScorer.quality_score* are a predicted value, an actual value, and an optional accuracy denominator.  The accuracy denominator, which defaults to 4 if not specified, provides scaling for very small case count values.  Here are some examples using this method."
   ]
  },
  {
   "cell_type": "code",
   "execution_count": 3,
   "metadata": {
    "collapsed": false
   },
   "outputs": [
    {
     "name": "stdout",
     "output_type": "stream",
     "text": [
      "Expect QS = 0.75\n",
      "0.75\n",
      "Expect QS = 0.5\n",
      "0.5\n",
      "Expect QS = 0\n",
      "0.0\n",
      "Expect QS = 0.99\n",
      "0.99\n",
      "Expect QS = 0.99\n",
      "0.99\n"
     ]
    }
   ],
   "source": [
    "predicted = 1\n",
    "actual = 0\n",
    "print(\"Expect QS = 0.75\")\n",
    "print(CaseCountScorer.quality_score(predicted, actual))\n",
    "predicted = 2\n",
    "print(\"Expect QS = 0.5\")\n",
    "print(CaseCountScorer.quality_score(predicted, actual))\n",
    "predicted = 100\n",
    "print(\"Expect QS = 0\")\n",
    "print(CaseCountScorer.quality_score(predicted, actual))\n",
    "actual = 99\n",
    "print(\"Expect QS = 0.99\")\n",
    "print(CaseCountScorer.quality_score(predicted, actual))\n",
    "predicted = 99\n",
    "actual = 100\n",
    "print(\"Expect QS = 0.99\")\n",
    "print(CaseCountScorer.quality_score(predicted, actual))"
   ]
  },
  {
   "cell_type": "markdown",
   "metadata": {},
   "source": [
    "Note that small differences between predicted and actual have little effect when both are large but have a big effect when both are small.  Also note that QS is symmetric in predicted or actual."
   ]
  },
  {
   "cell_type": "markdown",
   "metadata": {},
   "source": [
    "## *score_one* method"
   ]
  },
  {
   "cell_type": "markdown",
   "metadata": {},
   "source": [
    "The arguments for *CaseCountScorer.score_one* are a JSON-formatted warning and a JSON-formatted event data, along with an optional accuracy denominator which is passed to the *quality_score* method.  Here is an example:"
   ]
  },
  {
   "cell_type": "code",
   "execution_count": 4,
   "metadata": {
    "collapsed": false
   },
   "outputs": [
    {
     "name": "stdout",
     "output_type": "stream",
     "text": [
      "Expect QS = 0.75\n",
      "{'Quality Score': 0.75, 'Event_ID': 'CU_Count_Egypt_2018-06-24', 'GSR Case Count': 6, 'Warning_ID': 'test_1', 'Warning Case Count': 8}\n"
     ]
    }
   ],
   "source": [
    "warn_ = {\"Event_Type\": \"Civil Unrest\",\n",
    "         \"Country\": \"Egypt\",\n",
    "         \"Event_Date\": \"2018-06-24\",\n",
    "         \"Case_Count\": 8,\n",
    "         \"Warning_ID\": \"test_1\"}\n",
    "event_ = {\"Event_Type\": \"Civil Unrest\",\n",
    "          \"Country\": \"Egypt\",\n",
    "          \"Event_Date\": \"2018-06-24\",\n",
    "          \"Case_Count\": 6,\n",
    "          \"Event_ID\": \"CU_Count_Egypt_2018-06-24\",\n",
    "          \"Earliest_Reported_Date\": \"2018-07-15\"}\n",
    "print(\"Expect QS = 0.75\")\n",
    "result = CaseCountScorer.score_one(warn_,event_)\n",
    "print(result)"
   ]
  },
  {
   "cell_type": "markdown",
   "metadata": {},
   "source": [
    "## *score* method"
   ]
  },
  {
   "cell_type": "markdown",
   "metadata": {},
   "source": [
    "The arguments for *CaseCountScorer.score* are a list of JSON formatted warnings, a list of JSON formatted events, and an optional accuracy denominator.  The *score* method is not static; it only operates in the context of event type and location attributes for the *CaseCountScorer* instance:"
   ]
  },
  {
   "cell_type": "code",
   "execution_count": 5,
   "metadata": {
    "collapsed": true
   },
   "outputs": [],
   "source": [
    "mers_scorer = CaseCountScorer(event_type=\"Disease\", location=\"Saudi Arabia\")"
   ]
  },
  {
   "cell_type": "markdown",
   "metadata": {},
   "source": [
    "We have some example warning sets and GSR event data in the *resources/test* directory.  We will use these to illustrate scoring.  First, some sample warnings for MERS case counts in Saudi Arabia."
   ]
  },
  {
   "cell_type": "code",
   "execution_count": 6,
   "metadata": {
    "collapsed": false
   },
   "outputs": [
    {
     "name": "stdout",
     "output_type": "stream",
     "text": [
      "[{'Case_Count': 2.0,\n",
      "  'Country': 'Saudi Arabia',\n",
      "  'Disease': 'MERS',\n",
      "  'Event_Date': '2018-04-29',\n",
      "  'Event_Type': 'Disease',\n",
      "  'Warning_ID': 'test_2018-04-29'},\n",
      " {'Case_Count': 3.0,\n",
      "  'Country': 'Saudi Arabia',\n",
      "  'Disease': 'MERS',\n",
      "  'Earliest_Reported_Date': '2018-05-06',\n",
      "  'Event_Date': '2018-05-06',\n",
      "  'Event_Type': 'Disease',\n",
      "  'Warning_ID': 'test_2018-05-06'},\n",
      " {'Case_Count': 1.0,\n",
      "  'Country': 'Saudi Arabia',\n",
      "  'Disease': 'MERS',\n",
      "  'Earliest_Reported_Date': '2018-05-13',\n",
      "  'Event_Date': '2018-05-13',\n",
      "  'Event_Type': 'Disease',\n",
      "  'Warning_ID': 'test_2018-05-13'},\n",
      " {'Case_Count': 0.0,\n",
      "  'Country': 'Saudi Arabia',\n",
      "  'Disease': 'MERS',\n",
      "  'Event_Date': '2018-05-20',\n",
      "  'Event_Type': 'Disease',\n",
      "  'Warning_ID': 'test_2018-05-20'},\n",
      " {'Case_Count': 1.0,\n",
      "  'Country': 'Saudi Arabia',\n",
      "  'Disease': 'MERS',\n",
      "  'Event_Date': '2018-05-27',\n",
      "  'Event_Type': 'Disease',\n",
      "  'Warning_ID': 'test_2018-05-27'},\n",
      " {'Case_Count': 0.0,\n",
      "  'Country': 'Saudi Arabia',\n",
      "  'Disease': 'MERS',\n",
      "  'Event_Date': '2018-06-03',\n",
      "  'Event_Type': 'Disease',\n",
      "  'Warning_ID': 'test_2018-06-03'}]\n"
     ]
    }
   ],
   "source": [
    "warn_filename = \"dis_test_warnings.json\"\n",
    "warn_path = os.path.join(TEST_RESOURCE_PATH, warn_filename)\n",
    "with open(warn_path, \"r\") as f:\n",
    "    mers_warn = json.load(f)\n",
    "pprint.pprint(mers_warn)"
   ]
  },
  {
   "cell_type": "markdown",
   "metadata": {},
   "source": [
    "And a subset of the GSR:"
   ]
  },
  {
   "cell_type": "code",
   "execution_count": 7,
   "metadata": {
    "collapsed": false
   },
   "outputs": [
    {
     "name": "stdout",
     "output_type": "stream",
     "text": [
      "[{'Case_Count': 3.0,\n",
      "  'Country': 'Saudi Arabia',\n",
      "  'Disease': 'MERS',\n",
      "  'Earliest_Reported_Date': '2018-04-22',\n",
      "  'Encoding_Comment': 'Qunfundah(72yo),Najran(32yo),Aluhuohn(60yo)',\n",
      "  'Event_Date': '2018-04-22',\n",
      "  'Event_ID': 'Disease_Saudi_Arabia_MERS_2018-04-22',\n",
      "  'Event_Type': 'Disease',\n",
      "  'First_Reported_Link': 'empres-i.fao.org/eipws3g/',\n",
      "  'GSS_Link': 'empres-i.fao.org/eipws3g/',\n",
      "  'News_Source': 'empres-i.fao.org/eipws3g/',\n",
      "  'Other_Links': 'promedmail.org/direct.php?id=20180508.5788906',\n",
      "  'Revision_Date': '2018-05-12'},\n",
      " {'Case_Count': 2.0,\n",
      "  'Country': 'Saudi Arabia',\n",
      "  'Disease': 'MERS',\n",
      "  'Earliest_Reported_Date': '2018-05-02',\n",
      "  'Encoding_Comment': 'Hofuf(66), Sakaka(53)',\n",
      "  'Event_Date': '2018-04-29',\n",
      "  'Event_ID': 'Disease_Saudi_Arabia_MERS_2018-04-29',\n",
      "  'Event_Type': 'Disease',\n",
      "  'First_Reported_Link': 'empres-i.fao.org/eipws3g/',\n",
      "  'GSS_Link': 'empres-i.fao.org/eipws3g/',\n",
      "  'News_Source': 'empres-i.fao.org/eipws3g/',\n",
      "  'Other_Links': 'promedmail.org/direct.php?id=20180508.5788906',\n",
      "  'Revision_Date': '2018-06-14'},\n",
      " {'Case_Count': 0.0,\n",
      "  'Country': 'Saudi Arabia',\n",
      "  'Disease': 'MERS',\n",
      "  'Earliest_Reported_Date': '2018-05-06',\n",
      "  'Encoding_Comment': '-',\n",
      "  'Event_Date': '2018-05-06',\n",
      "  'Event_ID': 'Disease_Saudi_Arabia_MERS_2018-05-06',\n",
      "  'Event_Type': 'Disease',\n",
      "  'First_Reported_Link': 'empres-i.fao.org/eipws3g/',\n",
      "  'GSS_Link': 'empres-i.fao.org/eipws3g/',\n",
      "  'News_Source': 'empres-i.fao.org/eipws3g/',\n",
      "  'Other_Links': '-',\n",
      "  'Revision_Date': '2018-06-14'},\n",
      " {'Case_Count': 1.0,\n",
      "  'Country': 'Saudi Arabia',\n",
      "  'Disease': 'MERS',\n",
      "  'Earliest_Reported_Date': '2018-05-13',\n",
      "  'Encoding_Comment': 'Tabuk(48)',\n",
      "  'Event_Date': '2018-05-13',\n",
      "  'Event_ID': 'Disease_Saudi_Arabia_MERS_2018-05-13',\n",
      "  'Event_Type': 'Disease',\n",
      "  'First_Reported_Link': 'empres-i.fao.org/eipws3g/',\n",
      "  'GSS_Link': 'empres-i.fao.org/eipws3g/',\n",
      "  'News_Source': 'empres-i.fao.org/eipws3g/',\n",
      "  'Other_Links': 'promedmail.org/direct.php?id=20180525.5801103',\n",
      "  'Revision_Date': '2018-06-14'},\n",
      " {'Case_Count': 0.0,\n",
      "  'Country': 'Saudi Arabia',\n",
      "  'Disease': 'MERS',\n",
      "  'Earliest_Reported_Date': '2018-05-20',\n",
      "  'Encoding_Comment': '-',\n",
      "  'Event_Date': '2018-05-20',\n",
      "  'Event_ID': 'Disease_Saudi_Arabia_MERS_2018-05-20',\n",
      "  'Event_Type': 'Disease',\n",
      "  'First_Reported_Link': 'empres-i.fao.org/eipws3g/',\n",
      "  'GSS_Link': 'empres-i.fao.org/eipws3g/',\n",
      "  'News_Source': 'empres-i.fao.org/eipws3g/',\n",
      "  'Other_Links': '-',\n",
      "  'Revision_Date': '2018-06-14'}]\n"
     ]
    }
   ],
   "source": [
    "gsr_filename = \"dis_test_gsr.json\"\n",
    "gsr_path = os.path.join(TEST_RESOURCE_PATH, gsr_filename)\n",
    "with open(gsr_path, \"r\") as f:\n",
    "    mers_gsr = json.load(f)\n",
    "pprint.pprint(mers_gsr)"
   ]
  },
  {
   "cell_type": "markdown",
   "metadata": {},
   "source": [
    "Note that the two sets contain event dates that overlap but are not identical.  The GSR has an event on 2018-04-22 for which there is no warning.  Conversely, there are warnings for 2018-05-27 and 2018-06-03 for which there are no matching events.  We will therefore expect to see Precision and Recall values less than 1.0."
   ]
  },
  {
   "cell_type": "code",
   "execution_count": 8,
   "metadata": {
    "collapsed": false
   },
   "outputs": [
    {
     "name": "stdout",
     "output_type": "stream",
     "text": [
      "{'Details': {'QS Values': [1.0, 0.25, 1.0, 1.0]},\n",
      " 'Matches': [('test_2018-04-29', 'Disease_Saudi_Arabia_MERS_2018-04-29'),\n",
      "             ('test_2018-05-06', 'Disease_Saudi_Arabia_MERS_2018-05-06'),\n",
      "             ('test_2018-05-13', 'Disease_Saudi_Arabia_MERS_2018-05-13'),\n",
      "             ('test_2018-05-20', 'Disease_Saudi_Arabia_MERS_2018-05-20')],\n",
      " 'Results': {'Precision': 0.6666666666666666,\n",
      "             'Quality Score': 0.8125,\n",
      "             'Recall': 0.8},\n",
      " 'Unmatched GSR': ['Disease_Saudi_Arabia_MERS_2018-04-22'],\n",
      " 'Unmatched Warnings': ['test_2018-05-27', 'test_2018-06-03']}\n"
     ]
    }
   ],
   "source": [
    "mers_scoring = mers_scorer.score(mers_warn, mers_gsr)\n",
    "pprint.pprint(mers_scoring)"
   ]
  },
  {
   "cell_type": "markdown",
   "metadata": {},
   "source": [
    "If there are no errors the scoring result is provided in JSON format with these keys:\n",
    "- Details:  The list of Quality Scores for each match.\n",
    "- Matches: A list of tuples with warning ID and event ID as matched.\n",
    "- Results:  Values for the 3 metrics.\n",
    "- Unmatched GSR:  Germane events that were not matched to warnings.\n",
    "- Unmatched Warnings:  Germane warnings that were not matched to events."
   ]
  },
  {
   "cell_type": "markdown",
   "metadata": {},
   "source": [
    "Another example, using Daily Civil Unrest Counts in Egypt."
   ]
  },
  {
   "cell_type": "code",
   "execution_count": 9,
   "metadata": {
    "collapsed": false
   },
   "outputs": [
    {
     "name": "stdout",
     "output_type": "stream",
     "text": [
      "{'Details': {'QS Values': [0.0, 0.25, 0.5]},\n",
      " 'Matches': [('test_Egypt-05-29', 'CU_Count_Egypt_2018-05-29'),\n",
      "             ('test_Egypt-05-30', 'CU_Count_Egypt_2018-05-30'),\n",
      "             ('test_Egypt-05-31', 'CU_Count_Egypt_2018-05-31')],\n",
      " 'Results': {'Precision': 0.75, 'Quality Score': 0.25, 'Recall': 0.6},\n",
      " 'Unmatched GSR': ['CU_Count_Egypt_2018-05-27', 'CU_Count_Egypt_2018-05-28'],\n",
      " 'Unmatched Warnings': ['test_Egypt-06-01']}\n"
     ]
    }
   ],
   "source": [
    "warn_filename = \"test_egypt_daily_cu_warnings.json\"\n",
    "warn_path = os.path.join(TEST_RESOURCE_PATH, warn_filename)\n",
    "with open(warn_path, \"r\") as f:\n",
    "    eg_daily_warn = json.load(f)\n",
    "gsr_filename = \"test_egypt_daily_cu_gsr.json\"\n",
    "gsr_path = os.path.join(TEST_RESOURCE_PATH, gsr_filename)\n",
    "with open(gsr_path, \"r\") as f:\n",
    "    eg_daily_gsr = json.load(f)\n",
    "eg_scorer = CaseCountScorer(location=\"Egypt\", event_type=\"Civil Unrest\")\n",
    "eg_warn = eg_daily_warn[-4:]\n",
    "eg_gsr = eg_daily_gsr[-5:]\n",
    "eg_scoring = eg_scorer.score(eg_warn, eg_gsr)\n",
    "pprint.pprint(eg_scoring)"
   ]
  },
  {
   "cell_type": "markdown",
   "metadata": {},
   "source": [
    "Suppose we mix the MERS Disease warnings and the Egypt Daily Civil Unrest warnings and GSRs together.  Depending on which scorer we use different warnings and events will be considered germane.  The rest will be ignored."
   ]
  },
  {
   "cell_type": "code",
   "execution_count": 10,
   "metadata": {
    "collapsed": false
   },
   "outputs": [
    {
     "name": "stdout",
     "output_type": "stream",
     "text": [
      "We should get the same results as the last scoring.\n",
      "{'Details': {'QS Values': [0.0, 0.25, 0.5]},\n",
      " 'Matches': [('test_Egypt-05-29', 'CU_Count_Egypt_2018-05-29'),\n",
      "             ('test_Egypt-05-30', 'CU_Count_Egypt_2018-05-30'),\n",
      "             ('test_Egypt-05-31', 'CU_Count_Egypt_2018-05-31')],\n",
      " 'Results': {'Precision': 0.75, 'Quality Score': 0.25, 'Recall': 0.6},\n",
      " 'Unmatched GSR': ['CU_Count_Egypt_2018-05-27', 'CU_Count_Egypt_2018-05-28'],\n",
      " 'Unmatched Warnings': ['test_Egypt-06-01']}\n"
     ]
    }
   ],
   "source": [
    "mixed_warn = mers_warn + eg_daily_warn[-4:]\n",
    "mixed_gsr = mers_gsr + eg_daily_gsr[-5:]\n",
    "print(\"We should get the same results as the last scoring.\")\n",
    "as_eg_scoring = eg_scorer.score(mixed_warn, mixed_gsr)\n",
    "pprint.pprint(as_eg_scoring)"
   ]
  },
  {
   "cell_type": "markdown",
   "metadata": {},
   "source": [
    "On the other hand, if we use the *CaseCountScorer* instance with the Disease/Saudi Arabia Context we'll get the first set of results."
   ]
  },
  {
   "cell_type": "code",
   "execution_count": 11,
   "metadata": {
    "collapsed": false
   },
   "outputs": [
    {
     "name": "stdout",
     "output_type": "stream",
     "text": [
      "{'Details': {'QS Values': [1.0, 0.25, 1.0, 1.0]},\n",
      " 'Matches': [('test_2018-04-29', 'Disease_Saudi_Arabia_MERS_2018-04-29'),\n",
      "             ('test_2018-05-06', 'Disease_Saudi_Arabia_MERS_2018-05-06'),\n",
      "             ('test_2018-05-13', 'Disease_Saudi_Arabia_MERS_2018-05-13'),\n",
      "             ('test_2018-05-20', 'Disease_Saudi_Arabia_MERS_2018-05-20')],\n",
      " 'Results': {'Precision': 0.6666666666666666,\n",
      "             'Quality Score': 0.8125,\n",
      "             'Recall': 0.8},\n",
      " 'Unmatched GSR': ['Disease_Saudi_Arabia_MERS_2018-04-22'],\n",
      " 'Unmatched Warnings': ['test_2018-05-27', 'test_2018-06-03']}\n"
     ]
    }
   ],
   "source": [
    "as_mers_scoring = mers_scorer.score(mixed_warn, mixed_gsr)\n",
    "pprint.pprint(as_mers_scoring)"
   ]
  },
  {
   "cell_type": "markdown",
   "metadata": {},
   "source": [
    "## Errors and Warnings"
   ]
  },
  {
   "cell_type": "markdown",
   "metadata": {},
   "source": [
    "The *CaseCountScorer* will also catch some errors, such as negative case counts and should provide helpful error messages."
   ]
  },
  {
   "cell_type": "code",
   "execution_count": 13,
   "metadata": {
    "collapsed": false
   },
   "outputs": [
    {
     "name": "stdout",
     "output_type": "stream",
     "text": [
      "Negative case counts are not allowed\n"
     ]
    }
   ],
   "source": [
    "predicted = -1\n",
    "actual = 1\n",
    "CaseCountScorer.quality_score(predicted, actual)"
   ]
  },
  {
   "cell_type": "code",
   "execution_count": 14,
   "metadata": {
    "collapsed": false
   },
   "outputs": [
    {
     "name": "stdout",
     "output_type": "stream",
     "text": [
      "The accuracy denominator must be positive.\n"
     ]
    }
   ],
   "source": [
    "predicted = 1\n",
    "actual = 1\n",
    "CaseCountScorer.quality_score(predicted, actual, accuracy_denominator=0)"
   ]
  },
  {
   "cell_type": "code",
   "execution_count": null,
   "metadata": {
    "collapsed": true
   },
   "outputs": [],
   "source": []
  }
 ],
 "metadata": {
  "kernelspec": {
   "display_name": "Python [mercury]",
   "language": "python",
   "name": "Python [mercury]"
  },
  "language_info": {
   "codemirror_mode": {
    "name": "ipython",
    "version": 3
   },
   "file_extension": ".py",
   "mimetype": "text/x-python",
   "name": "python",
   "nbconvert_exporter": "python",
   "pygments_lexer": "ipython3",
   "version": "3.5.2"
  }
 },
 "nbformat": 4,
 "nbformat_minor": 0
}
