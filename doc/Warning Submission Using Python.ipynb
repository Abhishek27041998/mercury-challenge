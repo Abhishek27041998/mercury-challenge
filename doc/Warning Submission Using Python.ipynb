{
 "cells": [
  {
   "cell_type": "markdown",
   "metadata": {},
   "source": [
    "# Submitting Warnings for Mercury Challenge Using Python"
   ]
  },
  {
   "cell_type": "markdown",
   "metadata": {},
   "source": [
    "This notebook will walk through the process of submitting Mercury Challenge warnings using the Python's **Requests** library.  In order to submit warnings a challenge participant must be registered with TopCoder and be in possession of an API key, which will be used to authenticate submissions.  For more information on this please see https://iarpa.gov/challenges/mercury.html and TopCoder's instructions at https://docs.google.com/document/d/1KViMdqLFecnjEur6pE6-fHKcoO94PkK1g7XWwpEyCOE/edit\n",
    "\n",
    "In this notebook we will use the fictional participant name \"testuser\" who has obtained the API key \"mysecretkey\" after registering for the challenge."
   ]
  },
  {
   "cell_type": "markdown",
   "metadata": {},
   "source": [
    "## Warning Format"
   ]
  },
  {
   "cell_type": "markdown",
   "metadata": {},
   "source": [
    "All submissions for the Mercury Challenge must be valid JSON and must contain the fields described in the Challenge Handbook https://github.com/planetmercury/mercury-challenge/blob/master/doc/handbook/Mercury%20Challenge%20-%20Handbook.pdf.  Missing or extraneous submissions will likely result in the rejection of your submission.\n",
    "\n",
    "The submission has two top level fields, `participant_id` and `payload`.  The `participant_id` must match the API Key.  The `payload` must be a list of JSON-formatted warnings.\n",
    "\n",
    "Example:\n",
    "\n",
    "```\n",
    "{\n",
    "  \"participant_id\": \"testuser\",\n",
    "  \"payload\": [\n",
    "    {\n",
    "      \"Actor\": \"Royal Saudi Military\",\n",
    "      \"City\": \"Al Qaţīf\",\n",
    "      \"Event_Date\": \"2018-06-17\",\n",
    "      \"Event_Subtype\": \"Conflict\",\n",
    "      \"Latitude\": 26.5208,\n",
    "      \"Longitude\": 50.0245,\n",
    "      \"State\": \"Eastern Province\",\n",
    "      \"Country\": \"Saudi Arabia\",\n",
    "      \"Event_Type\": \"Military Activity\",\n",
    "      \"Warning_ID\": \"3148a892c3a145dc87df59532018100e\"\n",
    "    },\n",
    "    {\n",
    "      \"Actor\": \"Royal Saudi Military\",\n",
    "      \"City\": \"Al ‘Awāmīyah\",\n",
    "      \"Event_Date\": \"2018-06-22\",\n",
    "      \"Event_Subtype\": \"Conflict\",\n",
    "      \"Latitude\": 26.5936,\n",
    "      \"Longitude\": 49.9875,\n",
    "      \"State\": \"Eastern Province\",\n",
    "      \"Country\": \"Saudi Arabia\",\n",
    "      \"Event_Type\": \"Military Activity\",\n",
    "      \"Warning_ID\": \"0736f9dd320e431d95007faad74c0d05\"\n",
    "    }\n",
    "  ]\n",
    "}\n",
    "```\n",
    "\n",
    "In this example the `testuser` participant has prepared a payload of two Military Activity warnings for Saudi Arabia."
   ]
  },
  {
   "cell_type": "markdown",
   "metadata": {},
   "source": [
    "The submission URL for the challenge is https://87g554i96c.execute-api.us-east-1.amazonaws.com/Production/warning/intake.  Submissions must use **POST** and must have the following headers:\n",
    "- \"Content-Type:application/json\"\n",
    "- \"x-api-key:TopCoderusername:token\"\n",
    "\n",
    "Note that you will not be able to run these commands directly from this notebook without modification.  You will need to use your own user name and token and you'll need to modify the warning content.  Please also note that this is the production endpoint, so any submissions will be scored.  "
   ]
  },
  {
   "cell_type": "markdown",
   "metadata": {},
   "source": [
    "In this example, the JSON content is in a file named \"warnfile.json\" in the current working directory."
   ]
  },
  {
   "cell_type": "raw",
   "metadata": {},
   "source": [
    "curl https://87g554i96c.execute-api.us-east-1.amazonaws.com/Production/warning/intake\\\n",
    "    -XPOST -H \"x-api-key:testuser:mysecretkey\"\\\n",
    "    -H \"Content-Type:application/json\"\\\n",
    "    --data-binary @warnfile.json"
   ]
  },
  {
   "cell_type": "markdown",
   "metadata": {},
   "source": [
    "## Using Python"
   ]
  },
  {
   "cell_type": "code",
   "execution_count": 1,
   "metadata": {},
   "outputs": [],
   "source": [
    "import requests\n",
    "from uuid import uuid4 #Used to generate unique warning IDs\n",
    "from pprint import pprint\n",
    "\n",
    "secret_token = \"mysecretkey\"\n",
    "userid = \"testuser\"\n",
    "url = \"https://87g554i96c.execute-api.us-east-1.amazonaws.com/Production/warning/intake\"\n",
    "headers = {'x-api-key':'{0}:{1}'.format(userid, secret_token)}"
   ]
  },
  {
   "cell_type": "markdown",
   "metadata": {},
   "source": [
    "Below we build a Python **dict** for our submission. The keys for this dict will be the `participant_id` and `payload`.  The `payload` will be a list of dicts, where the keys to these dict correspond to the fields in each warning.  In order to generate unique warning identifiers we use the uuid4() method and append it to the participant ID.\n",
    "\n",
    "(By the way, please note that the example below is very similar to the example above but it has been shifted into August 2019.)"
   ]
  },
  {
   "cell_type": "code",
   "execution_count": 2,
   "metadata": {},
   "outputs": [
    {
     "name": "stdout",
     "output_type": "stream",
     "text": [
      "{'participant_id': 'testuser',\n",
      " 'payload': [{'Actor': 'Royal Saudi Military',\n",
      "              'City': 'Al Qaţīf',\n",
      "              'Country': 'Saudi Arabia',\n",
      "              'Event_Date': '2019-08-22',\n",
      "              'Event_Subtype': 'Conflict',\n",
      "              'Event_Type': 'Military Activity',\n",
      "              'Latitude': 26.5208,\n",
      "              'Longitude': 50.0245,\n",
      "              'State': 'Eastern Province',\n",
      "              'Warning_ID': 'testuser150f4133679d4448aaa2174c945534bd'},\n",
      "             {'Actor': 'Royal Saudi Military',\n",
      "              'City': 'Al ‘Awāmīyah',\n",
      "              'Country': 'Saudi Arabia',\n",
      "              'Event_Date': '2019-08-24',\n",
      "              'Event_Subtype': 'Conflict',\n",
      "              'Event_Type': 'Military Activity',\n",
      "              'Latitude': 26.5936,\n",
      "              'Longitude': 49.9875,\n",
      "              'State': 'Eastern Province',\n",
      "              'Warning_ID': 'testuserc392c27b6e3b4983925feeaa6c90dd68'}]}\n"
     ]
    }
   ],
   "source": [
    "submission = {\"participant_id\": userid,\n",
    "              \"payload\": []}\n",
    "country = \"Saudi Arabia\"\n",
    "event_type = \"Military Activity\"\n",
    "subtype = \"Conflict\"\n",
    "warn_id_0 = \"{0}{1}\".format(userid, uuid4().hex)\n",
    "event_date_0 = \"2019-08-22\"\n",
    "actor_0 = \"Royal Saudi Military\"\n",
    "lat_0 = 26.5208\n",
    "lon_0 = 50.0245\n",
    "city_0 = \"Al Qaţīf\"\n",
    "state_0 = \"Eastern Province\"\n",
    "warn_content_0 = {\"Actor\": actor_0,\n",
    "                \"City\": city_0,\n",
    "                \"State\": state_0,\n",
    "                \"Country\": country,\n",
    "                \"Latitude\": lat_0,\n",
    "                \"Longitude\": lon_0,\n",
    "                \"Event_Date\": event_date_0,\n",
    "                \"Event_Type\": event_type,\n",
    "                \"Event_Subtype\": subtype,\n",
    "                \"Warning_ID\": warn_id_0}\n",
    "warn_id_1 = \"{0}{1}\".format(userid, uuid4().hex)\n",
    "event_date_1 = \"2019-08-24\"\n",
    "actor_1 = \"Royal Saudi Military\"\n",
    "lat_1 = 26.5936\n",
    "lon_1 = 49.9875\n",
    "city_1 = \"Al ‘Awāmīyah\"\n",
    "state_1 = \"Eastern Province\"\n",
    "warn_content_1 = {\"Actor\": actor_1,\n",
    "                \"City\": city_1,\n",
    "                \"State\": state_1,\n",
    "                \"Country\": country,\n",
    "                \"Latitude\": lat_1,\n",
    "                \"Longitude\": lon_1,\n",
    "                \"Event_Date\": event_date_1,\n",
    "                \"Event_Type\": event_type,\n",
    "                \"Event_Subtype\": subtype,\n",
    "                \"Warning_ID\": warn_id_1}\n",
    "\n",
    "submission[\"payload\"] = [warn_content_0, warn_content_1]\n",
    "\n",
    "pprint(submission)"
   ]
  },
  {
   "cell_type": "markdown",
   "metadata": {},
   "source": [
    "Using the `post` method for requests we make our submission.  We can then examine the `json` attribute of the returned results to see if our submission was successful."
   ]
  },
  {
   "cell_type": "code",
   "execution_count": 23,
   "metadata": {},
   "outputs": [
    {
     "name": "stdout",
     "output_type": "stream",
     "text": [
      "{'Existing warnings updated': 0,\n",
      " 'Invalid warnings': 0,\n",
      " 'New warnings or versions inserted': 2,\n",
      " 'Total operations': 2,\n",
      " 'reason': None,\n",
      " 'result': 'ok'}\n"
     ]
    }
   ],
   "source": [
    "result = requests.post(url, headers=headers, json=submission)\n",
    "\n",
    "pprint(result.json())"
   ]
  },
  {
   "cell_type": "markdown",
   "metadata": {},
   "source": [
    "## Results"
   ]
  },
  {
   "cell_type": "markdown",
   "metadata": {},
   "source": [
    "If your submission is successful you will see an output like this"
   ]
  },
  {
   "cell_type": "raw",
   "metadata": {},
   "source": [
    "{\"New warnings or versions inserted\":31,\"reason\":null,\"Total operations\":31,\"Existing warnings updated\":0,\"Invalid warnings\":0,\"result\":\"ok\"}"
   ]
  },
  {
   "cell_type": "markdown",
   "metadata": {},
   "source": [
    "If your submission is unsuccessful you will receive an error message.  Common error messages and their meanings are listed below.  Please note that some error messages only pertain to some of the warnings in your payload; the other content in your payload will have been successfully submitted."
   ]
  },
  {
   "cell_type": "raw",
   "metadata": {},
   "source": [
    "\"Participant not matching\""
   ]
  },
  {
   "cell_type": "markdown",
   "metadata": {},
   "source": [
    "This means that the `participant_id` in your submission content doesn't match the participant id in your header."
   ]
  },
  {
   "cell_type": "raw",
   "metadata": {},
   "source": [
    "{\"New warnings or versions inserted\":0,\"reason\":\"Payload item 1: Cannot update \\\"Country\\\" for \\\"Military Activity\\\" events\",\"Total operations\":1,\"Existing warnings updated\":0,\"Invalid warnings\":1,\"result\":\"error\"}"
   ]
  },
  {
   "cell_type": "markdown",
   "metadata": {},
   "source": [
    "This, and similar \"Cannot update...\" messages indicate that you tried to change an immutable field in your warning.  In this case the new version of the warning changed the `Country`, which is not allowed."
   ]
  },
  {
   "cell_type": "raw",
   "metadata": {},
   "source": [
    "{\"New warnings or versions inserted\":0,\"reason\":\"Payload item 1: Unknown event type \\\"Not a Mercury Event Type\\\"\",\"Total operations\":1,\"Existing warnings updated\":0,\"Invalid warnings\":1,\"result\":\"error\"}"
   ]
  },
  {
   "cell_type": "markdown",
   "metadata": {},
   "source": [
    "This indicates an invalid event type was used."
   ]
  },
  {
   "cell_type": "raw",
   "metadata": {},
   "source": [
    "{\"New warnings or versions inserted\":0,\"reason\":\"Payload item 4: Missing attribute \\\"Disease\\\"\",\"Total operations\":4,\"Existing warnings updated\":0,\"Invalid warnings\":4,\"result\":\"error\"}"
   ]
  },
  {
   "cell_type": "markdown",
   "metadata": {},
   "source": [
    "This indicates a missing required field."
   ]
  },
  {
   "cell_type": "raw",
   "metadata": {},
   "source": [
    "{\"New warnings or versions inserted\":3,\"reason\":\"Payload item 1: Existing warnings can only be modified every 4 hours\",\"Total operations\":4,\"Existing warnings updated\":0,\"Invalid warnings\":1,\"result\":\"error\"}"
   ]
  },
  {
   "cell_type": "markdown",
   "metadata": {},
   "source": [
    "This indicates that you are submitting warnings too frequently.  Wait the required length of time and try again."
   ]
  },
  {
   "cell_type": "raw",
   "metadata": {},
   "source": [
    "{\"New warnings or versions inserted\":0,\"reason\":\"Payload item 5: Value not in valid range for \\\"Case_Count\\\"\",\"Total operations\":5,\"Existing warnings updated\":0,\"Invalid warnings\":5,\"result\":\"error\"}"
   ]
  },
  {
   "cell_type": "markdown",
   "metadata": {},
   "source": [
    "In this case a negative value for `Case_Count` was attempted."
   ]
  }
 ],
 "metadata": {
  "kernelspec": {
   "display_name": "Python 3",
   "language": "python",
   "name": "python3"
  },
  "language_info": {
   "codemirror_mode": {
    "name": "ipython",
    "version": 3
   },
   "file_extension": ".py",
   "mimetype": "text/x-python",
   "name": "python",
   "nbconvert_exporter": "python",
   "pygments_lexer": "ipython3",
   "version": "3.6.5"
  }
 },
 "nbformat": 4,
 "nbformat_minor": 2
}
